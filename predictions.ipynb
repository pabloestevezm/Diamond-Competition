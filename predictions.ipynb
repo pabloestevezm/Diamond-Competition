{
 "cells": [
  {
   "cell_type": "code",
   "execution_count": 1,
   "metadata": {},
   "outputs": [],
   "source": [
    "import numpy as np\n",
    "import pandas as pd\n",
    "import math\n",
    "from sklearn.model_selection import train_test_split\n",
    "import seaborn as sns\n",
    "import matplotlib.pyplot as plt\n",
    "from sklearn import preprocessing\n",
    "from sklearn.neighbors import KNeighborsClassifier\n",
    "from sklearn.metrics import mean_squared_error\n",
    "from sklearn.ensemble import RandomForestRegressor, GradientBoostingRegressor\n",
    "from sklearn.tree import DecisionTreeClassifier\n",
    "from sklearn.ensemble import RandomForestClassifier\n",
    "from sklearn.svm import SVC\n",
    "from sklearn.neighbors import NearestCentroid\n",
    "from sklearn.tree import DecisionTreeRegressor\n",
    "from sklearn.linear_model import LinearRegression,Ridge"
   ]
  },
  {
   "cell_type": "code",
   "execution_count": 2,
   "metadata": {},
   "outputs": [],
   "source": [
    "training = pd.read_csv('./Output/clean_training_LE.csv', index_col=0)"
   ]
  },
  {
   "cell_type": "code",
   "execution_count": 3,
   "metadata": {},
   "outputs": [],
   "source": [
    "prediction = pd.read_csv('./Output/clean_prediction_LE.csv', index_col=0)"
   ]
  },
  {
   "cell_type": "markdown",
   "metadata": {},
   "source": [
    "# Aquí pongo algunos modelos para testear los RMSE "
   ]
  },
  {
   "cell_type": "code",
   "execution_count": 4,
   "metadata": {},
   "outputs": [],
   "source": [
    "models = {\n",
    "    #\"Tree\" : DecisionTreeClassifier(), RMSE = 1909.61\n",
    "    #\"RandomForestClass\" : RandomForestClassifier(), Kernel died\n",
    "    \"RandomForestRegressor\" : RandomForestRegressor(), #poca diferencia con n_estimators = 500\n",
    "    #\"Centroid\": NearestCentroid(), RMSE= 1966\n",
    "    #\"SVC\": SVC(), Kernel died\n",
    "    #\"KNeighborsClass\" : KNeighborsClassifier(),\n",
    "    \"GradientBoostRegressor\" : GradientBoostingRegressor(n_estimators=100), #probar más n_estimators\n",
    "    \"GradientBoostRegressor500\" : GradientBoostingRegressor(n_estimators=500),\n",
    "    #\"LinearRegression\": LinearRegression(), #RMSE 1324.9985848560812\n",
    "    #'DecisionTree': DecisionTreeRegressor(), # RMSE 745.1660130909593\n",
    "    #\"Ridge\" : Ridge(), #RMSE 1325.2177613546255\n",
    "    \"RandomForestRegressor500\" : RandomForestRegressor(n_estimators=500), # mejor RMSE\n",
    "    #\"RandomForestRegressor800\" : RandomForestRegressor(n_estimators=800), # peor RMSE que con 500\n",
    "    #\"GradientBoostRegressor800\" : GradientBoostingRegressor(n_estimators=800)  # peor RMSE que con 500  \n",
    "}"
   ]
  },
  {
   "cell_type": "code",
   "execution_count": 5,
   "metadata": {},
   "outputs": [],
   "source": [
    "columnas = [i for i in training.columns if i not in [\"price\"]]\n",
    "X = training[columnas]\n",
    "y = training[\"price\"]"
   ]
  },
  {
   "cell_type": "code",
   "execution_count": 6,
   "metadata": {},
   "outputs": [],
   "source": [
    "X_train, X_test, y_train, y_test  = train_test_split(X,y,test_size = 0.2)"
   ]
  },
  {
   "cell_type": "code",
   "execution_count": 7,
   "metadata": {},
   "outputs": [
    {
     "name": "stdout",
     "output_type": "stream",
     "text": [
      "Training RandomForestRegressor\n",
      "RMSE 570.7623968127723\n",
      "Training GradientBoostRegressor\n",
      "RMSE 665.7265426328133\n",
      "Training GradientBoostRegressor500\n",
      "RMSE 562.8749742498222\n",
      "Training RandomForestRegressor500\n",
      "RMSE 574.0637158741982\n",
      "He acabado :D\n"
     ]
    }
   ],
   "source": [
    "dicc = {}\n",
    "for name, model in models.items():\n",
    "    print(f\"Training {name}\")\n",
    "    model.fit(X_train,y_train)\n",
    "    y_pred = model.predict(X_test)\n",
    "    print('RMSE', math.sqrt(mean_squared_error(y_test, y_pred)))\n",
    "    dicc[name]= y_pred\n",
    "print(\"He acabado :D\")\n",
    "# Muchos problemas respecto a los RMSE (me salían cercanos a 500-700) por utilizar mal el Label Encoder"
   ]
  },
  {
   "cell_type": "code",
   "execution_count": 8,
   "metadata": {},
   "outputs": [
    {
     "data": {
      "text/plain": [
       "{'RandomForestRegressor': array([  806.8 , 17379.44,  4222.38, ...,   990.64,  1102.69,   743.49]),\n",
       " 'GradientBoostRegressor': array([  644.02648192, 18037.11057698,  4799.57168864, ...,\n",
       "          998.93876535,  1147.88925635,   663.26215128]),\n",
       " 'GradientBoostRegressor500': array([  538.16298588, 19158.84432715,  4522.07563622, ...,\n",
       "          997.73314179,  1182.87390391,   653.25274117]),\n",
       " 'RandomForestRegressor500': array([  804.898 , 17530.2835,  4313.738 , ...,   995.29  ,  1082.356 ,\n",
       "          745.566 ])}"
      ]
     },
     "execution_count": 8,
     "metadata": {},
     "output_type": "execute_result"
    }
   ],
   "source": [
    "dicc"
   ]
  },
  {
   "cell_type": "code",
   "execution_count": 9,
   "metadata": {},
   "outputs": [],
   "source": [
    "models_try = pd.DataFrame(dicc)"
   ]
  },
  {
   "cell_type": "code",
   "execution_count": 10,
   "metadata": {},
   "outputs": [
    {
     "data": {
      "text/html": [
       "<div>\n",
       "<style scoped>\n",
       "    .dataframe tbody tr th:only-of-type {\n",
       "        vertical-align: middle;\n",
       "    }\n",
       "\n",
       "    .dataframe tbody tr th {\n",
       "        vertical-align: top;\n",
       "    }\n",
       "\n",
       "    .dataframe thead th {\n",
       "        text-align: right;\n",
       "    }\n",
       "</style>\n",
       "<table border=\"1\" class=\"dataframe\">\n",
       "  <thead>\n",
       "    <tr style=\"text-align: right;\">\n",
       "      <th></th>\n",
       "      <th>RandomForestRegressor</th>\n",
       "      <th>GradientBoostRegressor</th>\n",
       "      <th>GradientBoostRegressor500</th>\n",
       "      <th>RandomForestRegressor500</th>\n",
       "      <th>GT</th>\n",
       "    </tr>\n",
       "  </thead>\n",
       "  <tbody>\n",
       "    <tr>\n",
       "      <th>0</th>\n",
       "      <td>806.800000</td>\n",
       "      <td>644.026482</td>\n",
       "      <td>538.162986</td>\n",
       "      <td>804.898000</td>\n",
       "      <td>818</td>\n",
       "    </tr>\n",
       "    <tr>\n",
       "      <th>1</th>\n",
       "      <td>17379.440000</td>\n",
       "      <td>18037.110577</td>\n",
       "      <td>19158.844327</td>\n",
       "      <td>17530.283500</td>\n",
       "      <td>18700</td>\n",
       "    </tr>\n",
       "    <tr>\n",
       "      <th>2</th>\n",
       "      <td>4222.380000</td>\n",
       "      <td>4799.571689</td>\n",
       "      <td>4522.075636</td>\n",
       "      <td>4313.738000</td>\n",
       "      <td>4434</td>\n",
       "    </tr>\n",
       "    <tr>\n",
       "      <th>3</th>\n",
       "      <td>740.910000</td>\n",
       "      <td>651.693373</td>\n",
       "      <td>631.731218</td>\n",
       "      <td>734.494000</td>\n",
       "      <td>748</td>\n",
       "    </tr>\n",
       "    <tr>\n",
       "      <th>4</th>\n",
       "      <td>2540.860000</td>\n",
       "      <td>2521.372269</td>\n",
       "      <td>2472.164948</td>\n",
       "      <td>2547.618000</td>\n",
       "      <td>2382</td>\n",
       "    </tr>\n",
       "    <tr>\n",
       "      <th>...</th>\n",
       "      <td>...</td>\n",
       "      <td>...</td>\n",
       "      <td>...</td>\n",
       "      <td>...</td>\n",
       "      <td>...</td>\n",
       "    </tr>\n",
       "    <tr>\n",
       "      <th>8086</th>\n",
       "      <td>819.620000</td>\n",
       "      <td>898.978781</td>\n",
       "      <td>947.383855</td>\n",
       "      <td>828.200000</td>\n",
       "      <td>862</td>\n",
       "    </tr>\n",
       "    <tr>\n",
       "      <th>8087</th>\n",
       "      <td>1247.298333</td>\n",
       "      <td>1301.516649</td>\n",
       "      <td>1348.394029</td>\n",
       "      <td>1252.749667</td>\n",
       "      <td>1279</td>\n",
       "    </tr>\n",
       "    <tr>\n",
       "      <th>8088</th>\n",
       "      <td>990.640000</td>\n",
       "      <td>998.938765</td>\n",
       "      <td>997.733142</td>\n",
       "      <td>995.290000</td>\n",
       "      <td>1040</td>\n",
       "    </tr>\n",
       "    <tr>\n",
       "      <th>8089</th>\n",
       "      <td>1102.690000</td>\n",
       "      <td>1147.889256</td>\n",
       "      <td>1182.873904</td>\n",
       "      <td>1082.356000</td>\n",
       "      <td>885</td>\n",
       "    </tr>\n",
       "    <tr>\n",
       "      <th>8090</th>\n",
       "      <td>743.490000</td>\n",
       "      <td>663.262151</td>\n",
       "      <td>653.252741</td>\n",
       "      <td>745.566000</td>\n",
       "      <td>765</td>\n",
       "    </tr>\n",
       "  </tbody>\n",
       "</table>\n",
       "<p>8091 rows × 5 columns</p>\n",
       "</div>"
      ],
      "text/plain": [
       "      RandomForestRegressor  GradientBoostRegressor  \\\n",
       "0                806.800000              644.026482   \n",
       "1              17379.440000            18037.110577   \n",
       "2               4222.380000             4799.571689   \n",
       "3                740.910000              651.693373   \n",
       "4               2540.860000             2521.372269   \n",
       "...                     ...                     ...   \n",
       "8086             819.620000              898.978781   \n",
       "8087            1247.298333             1301.516649   \n",
       "8088             990.640000              998.938765   \n",
       "8089            1102.690000             1147.889256   \n",
       "8090             743.490000              663.262151   \n",
       "\n",
       "      GradientBoostRegressor500  RandomForestRegressor500     GT  \n",
       "0                    538.162986                804.898000    818  \n",
       "1                  19158.844327              17530.283500  18700  \n",
       "2                   4522.075636               4313.738000   4434  \n",
       "3                    631.731218                734.494000    748  \n",
       "4                   2472.164948               2547.618000   2382  \n",
       "...                         ...                       ...    ...  \n",
       "8086                 947.383855                828.200000    862  \n",
       "8087                1348.394029               1252.749667   1279  \n",
       "8088                 997.733142                995.290000   1040  \n",
       "8089                1182.873904               1082.356000    885  \n",
       "8090                 653.252741                745.566000    765  \n",
       "\n",
       "[8091 rows x 5 columns]"
      ]
     },
     "execution_count": 10,
     "metadata": {},
     "output_type": "execute_result"
    }
   ],
   "source": [
    "# Observamos cuales de los modelos que voy intentando se acerca más al GT respecto del X_Test\n",
    "models_try['GT']= y_test.values\n",
    "models_try"
   ]
  },
  {
   "cell_type": "markdown",
   "metadata": {},
   "source": [
    "# Predicts"
   ]
  },
  {
   "cell_type": "code",
   "execution_count": 11,
   "metadata": {},
   "outputs": [],
   "source": [
    "predictions = dict()\n",
    "for name, model in models.items():\n",
    "    y_predict = model.predict(prediction)\n",
    "    predictions[name] = y_predict"
   ]
  },
  {
   "cell_type": "code",
   "execution_count": 12,
   "metadata": {},
   "outputs": [
    {
     "data": {
      "text/plain": [
       "{'RandomForestRegressor': array([14573.31, 15398.64,  1040.59, ...,  2389.6 ,  1048.16,  2795.44]),\n",
       " 'GradientBoostRegressor': array([15391.5237155 , 15000.22047185,  1339.49106177, ...,\n",
       "         2775.17767801,  1182.21121553,  2183.88657011]),\n",
       " 'GradientBoostRegressor500': array([15326.79066391, 15605.26287187,  1358.51965973, ...,\n",
       "         2401.51498574,  1158.00746194,  2241.15953735]),\n",
       " 'RandomForestRegressor500': array([14699.17  , 15453.4   ,  1032.498 , ...,  2392.8915,  1049.476 ,\n",
       "         2753.478 ])}"
      ]
     },
     "execution_count": 12,
     "metadata": {},
     "output_type": "execute_result"
    }
   ],
   "source": [
    "predictions"
   ]
  },
  {
   "cell_type": "markdown",
   "metadata": {},
   "source": [
    "# Pasamos a DataFrames los que más se asemejan al GT del que disponemos"
   ]
  },
  {
   "cell_type": "code",
   "execution_count": 13,
   "metadata": {},
   "outputs": [
    {
     "data": {
      "text/html": [
       "<div>\n",
       "<style scoped>\n",
       "    .dataframe tbody tr th:only-of-type {\n",
       "        vertical-align: middle;\n",
       "    }\n",
       "\n",
       "    .dataframe tbody tr th {\n",
       "        vertical-align: top;\n",
       "    }\n",
       "\n",
       "    .dataframe thead th {\n",
       "        text-align: right;\n",
       "    }\n",
       "</style>\n",
       "<table border=\"1\" class=\"dataframe\">\n",
       "  <thead>\n",
       "    <tr style=\"text-align: right;\">\n",
       "      <th></th>\n",
       "      <th>id</th>\n",
       "      <th>price</th>\n",
       "    </tr>\n",
       "  </thead>\n",
       "  <tbody>\n",
       "    <tr>\n",
       "      <th>0</th>\n",
       "      <td>0</td>\n",
       "      <td>15391.523716</td>\n",
       "    </tr>\n",
       "    <tr>\n",
       "      <th>1</th>\n",
       "      <td>1</td>\n",
       "      <td>15000.220472</td>\n",
       "    </tr>\n",
       "    <tr>\n",
       "      <th>2</th>\n",
       "      <td>2</td>\n",
       "      <td>1339.491062</td>\n",
       "    </tr>\n",
       "    <tr>\n",
       "      <th>3</th>\n",
       "      <td>3</td>\n",
       "      <td>478.266081</td>\n",
       "    </tr>\n",
       "    <tr>\n",
       "      <th>4</th>\n",
       "      <td>4</td>\n",
       "      <td>3445.125842</td>\n",
       "    </tr>\n",
       "    <tr>\n",
       "      <th>...</th>\n",
       "      <td>...</td>\n",
       "      <td>...</td>\n",
       "    </tr>\n",
       "    <tr>\n",
       "      <th>13480</th>\n",
       "      <td>13480</td>\n",
       "      <td>2232.937220</td>\n",
       "    </tr>\n",
       "    <tr>\n",
       "      <th>13481</th>\n",
       "      <td>13481</td>\n",
       "      <td>5188.922419</td>\n",
       "    </tr>\n",
       "    <tr>\n",
       "      <th>13482</th>\n",
       "      <td>13482</td>\n",
       "      <td>2775.177678</td>\n",
       "    </tr>\n",
       "    <tr>\n",
       "      <th>13483</th>\n",
       "      <td>13483</td>\n",
       "      <td>1182.211216</td>\n",
       "    </tr>\n",
       "    <tr>\n",
       "      <th>13484</th>\n",
       "      <td>13484</td>\n",
       "      <td>2183.886570</td>\n",
       "    </tr>\n",
       "  </tbody>\n",
       "</table>\n",
       "<p>13485 rows × 2 columns</p>\n",
       "</div>"
      ],
      "text/plain": [
       "          id         price\n",
       "0          0  15391.523716\n",
       "1          1  15000.220472\n",
       "2          2   1339.491062\n",
       "3          3    478.266081\n",
       "4          4   3445.125842\n",
       "...      ...           ...\n",
       "13480  13480   2232.937220\n",
       "13481  13481   5188.922419\n",
       "13482  13482   2775.177678\n",
       "13483  13483   1182.211216\n",
       "13484  13484   2183.886570\n",
       "\n",
       "[13485 rows x 2 columns]"
      ]
     },
     "execution_count": 13,
     "metadata": {},
     "output_type": "execute_result"
    }
   ],
   "source": [
    "predict_GRAD = pd.DataFrame(predictions['GradientBoostRegressor']).reset_index()\n",
    "predict_GRAD = predict_GRAD.rename(columns={\"index\": \"id\", 0: \"price\"})\n",
    "predict_GRAD"
   ]
  },
  {
   "cell_type": "code",
   "execution_count": 14,
   "metadata": {},
   "outputs": [
    {
     "data": {
      "text/html": [
       "<div>\n",
       "<style scoped>\n",
       "    .dataframe tbody tr th:only-of-type {\n",
       "        vertical-align: middle;\n",
       "    }\n",
       "\n",
       "    .dataframe tbody tr th {\n",
       "        vertical-align: top;\n",
       "    }\n",
       "\n",
       "    .dataframe thead th {\n",
       "        text-align: right;\n",
       "    }\n",
       "</style>\n",
       "<table border=\"1\" class=\"dataframe\">\n",
       "  <thead>\n",
       "    <tr style=\"text-align: right;\">\n",
       "      <th></th>\n",
       "      <th>id</th>\n",
       "      <th>price</th>\n",
       "    </tr>\n",
       "  </thead>\n",
       "  <tbody>\n",
       "    <tr>\n",
       "      <th>0</th>\n",
       "      <td>0</td>\n",
       "      <td>14573.31</td>\n",
       "    </tr>\n",
       "    <tr>\n",
       "      <th>1</th>\n",
       "      <td>1</td>\n",
       "      <td>15398.64</td>\n",
       "    </tr>\n",
       "    <tr>\n",
       "      <th>2</th>\n",
       "      <td>2</td>\n",
       "      <td>1040.59</td>\n",
       "    </tr>\n",
       "    <tr>\n",
       "      <th>3</th>\n",
       "      <td>3</td>\n",
       "      <td>455.59</td>\n",
       "    </tr>\n",
       "    <tr>\n",
       "      <th>4</th>\n",
       "      <td>4</td>\n",
       "      <td>3570.20</td>\n",
       "    </tr>\n",
       "    <tr>\n",
       "      <th>...</th>\n",
       "      <td>...</td>\n",
       "      <td>...</td>\n",
       "    </tr>\n",
       "    <tr>\n",
       "      <th>13480</th>\n",
       "      <td>13480</td>\n",
       "      <td>2536.88</td>\n",
       "    </tr>\n",
       "    <tr>\n",
       "      <th>13481</th>\n",
       "      <td>13481</td>\n",
       "      <td>4922.93</td>\n",
       "    </tr>\n",
       "    <tr>\n",
       "      <th>13482</th>\n",
       "      <td>13482</td>\n",
       "      <td>2389.60</td>\n",
       "    </tr>\n",
       "    <tr>\n",
       "      <th>13483</th>\n",
       "      <td>13483</td>\n",
       "      <td>1048.16</td>\n",
       "    </tr>\n",
       "    <tr>\n",
       "      <th>13484</th>\n",
       "      <td>13484</td>\n",
       "      <td>2795.44</td>\n",
       "    </tr>\n",
       "  </tbody>\n",
       "</table>\n",
       "<p>13485 rows × 2 columns</p>\n",
       "</div>"
      ],
      "text/plain": [
       "          id     price\n",
       "0          0  14573.31\n",
       "1          1  15398.64\n",
       "2          2   1040.59\n",
       "3          3    455.59\n",
       "4          4   3570.20\n",
       "...      ...       ...\n",
       "13480  13480   2536.88\n",
       "13481  13481   4922.93\n",
       "13482  13482   2389.60\n",
       "13483  13483   1048.16\n",
       "13484  13484   2795.44\n",
       "\n",
       "[13485 rows x 2 columns]"
      ]
     },
     "execution_count": 14,
     "metadata": {},
     "output_type": "execute_result"
    }
   ],
   "source": [
    "predict_RFReg = pd.DataFrame(predictions['RandomForestRegressor']).reset_index()\n",
    "predict_RFReg = predict_RFReg.rename(columns={\"index\": \"id\", 0: \"price\"})\n",
    "predict_RFReg"
   ]
  },
  {
   "cell_type": "code",
   "execution_count": 15,
   "metadata": {},
   "outputs": [
    {
     "data": {
      "text/html": [
       "<div>\n",
       "<style scoped>\n",
       "    .dataframe tbody tr th:only-of-type {\n",
       "        vertical-align: middle;\n",
       "    }\n",
       "\n",
       "    .dataframe tbody tr th {\n",
       "        vertical-align: top;\n",
       "    }\n",
       "\n",
       "    .dataframe thead th {\n",
       "        text-align: right;\n",
       "    }\n",
       "</style>\n",
       "<table border=\"1\" class=\"dataframe\">\n",
       "  <thead>\n",
       "    <tr style=\"text-align: right;\">\n",
       "      <th></th>\n",
       "      <th>id</th>\n",
       "      <th>price</th>\n",
       "    </tr>\n",
       "  </thead>\n",
       "  <tbody>\n",
       "    <tr>\n",
       "      <th>0</th>\n",
       "      <td>0</td>\n",
       "      <td>14699.1700</td>\n",
       "    </tr>\n",
       "    <tr>\n",
       "      <th>1</th>\n",
       "      <td>1</td>\n",
       "      <td>15453.4000</td>\n",
       "    </tr>\n",
       "    <tr>\n",
       "      <th>2</th>\n",
       "      <td>2</td>\n",
       "      <td>1032.4980</td>\n",
       "    </tr>\n",
       "    <tr>\n",
       "      <th>3</th>\n",
       "      <td>3</td>\n",
       "      <td>444.8860</td>\n",
       "    </tr>\n",
       "    <tr>\n",
       "      <th>4</th>\n",
       "      <td>4</td>\n",
       "      <td>3645.5120</td>\n",
       "    </tr>\n",
       "    <tr>\n",
       "      <th>...</th>\n",
       "      <td>...</td>\n",
       "      <td>...</td>\n",
       "    </tr>\n",
       "    <tr>\n",
       "      <th>13480</th>\n",
       "      <td>13480</td>\n",
       "      <td>2557.0000</td>\n",
       "    </tr>\n",
       "    <tr>\n",
       "      <th>13481</th>\n",
       "      <td>13481</td>\n",
       "      <td>5012.1780</td>\n",
       "    </tr>\n",
       "    <tr>\n",
       "      <th>13482</th>\n",
       "      <td>13482</td>\n",
       "      <td>2392.8915</td>\n",
       "    </tr>\n",
       "    <tr>\n",
       "      <th>13483</th>\n",
       "      <td>13483</td>\n",
       "      <td>1049.4760</td>\n",
       "    </tr>\n",
       "    <tr>\n",
       "      <th>13484</th>\n",
       "      <td>13484</td>\n",
       "      <td>2753.4780</td>\n",
       "    </tr>\n",
       "  </tbody>\n",
       "</table>\n",
       "<p>13485 rows × 2 columns</p>\n",
       "</div>"
      ],
      "text/plain": [
       "          id       price\n",
       "0          0  14699.1700\n",
       "1          1  15453.4000\n",
       "2          2   1032.4980\n",
       "3          3    444.8860\n",
       "4          4   3645.5120\n",
       "...      ...         ...\n",
       "13480  13480   2557.0000\n",
       "13481  13481   5012.1780\n",
       "13482  13482   2392.8915\n",
       "13483  13483   1049.4760\n",
       "13484  13484   2753.4780\n",
       "\n",
       "[13485 rows x 2 columns]"
      ]
     },
     "execution_count": 15,
     "metadata": {},
     "output_type": "execute_result"
    }
   ],
   "source": [
    "predict_RFReg500 = pd.DataFrame(predictions['RandomForestRegressor500']).reset_index()\n",
    "predict_RFReg500 = predict_RFReg500.rename(columns={\"index\": \"id\", 0: \"price\"})\n",
    "predict_RFReg500"
   ]
  },
  {
   "cell_type": "code",
   "execution_count": 16,
   "metadata": {},
   "outputs": [
    {
     "data": {
      "text/html": [
       "<div>\n",
       "<style scoped>\n",
       "    .dataframe tbody tr th:only-of-type {\n",
       "        vertical-align: middle;\n",
       "    }\n",
       "\n",
       "    .dataframe tbody tr th {\n",
       "        vertical-align: top;\n",
       "    }\n",
       "\n",
       "    .dataframe thead th {\n",
       "        text-align: right;\n",
       "    }\n",
       "</style>\n",
       "<table border=\"1\" class=\"dataframe\">\n",
       "  <thead>\n",
       "    <tr style=\"text-align: right;\">\n",
       "      <th></th>\n",
       "      <th>id</th>\n",
       "      <th>price</th>\n",
       "    </tr>\n",
       "  </thead>\n",
       "  <tbody>\n",
       "    <tr>\n",
       "      <th>0</th>\n",
       "      <td>0</td>\n",
       "      <td>15326.790664</td>\n",
       "    </tr>\n",
       "    <tr>\n",
       "      <th>1</th>\n",
       "      <td>1</td>\n",
       "      <td>15605.262872</td>\n",
       "    </tr>\n",
       "    <tr>\n",
       "      <th>2</th>\n",
       "      <td>2</td>\n",
       "      <td>1358.519660</td>\n",
       "    </tr>\n",
       "    <tr>\n",
       "      <th>3</th>\n",
       "      <td>3</td>\n",
       "      <td>535.993147</td>\n",
       "    </tr>\n",
       "    <tr>\n",
       "      <th>4</th>\n",
       "      <td>4</td>\n",
       "      <td>2989.692148</td>\n",
       "    </tr>\n",
       "    <tr>\n",
       "      <th>...</th>\n",
       "      <td>...</td>\n",
       "      <td>...</td>\n",
       "    </tr>\n",
       "    <tr>\n",
       "      <th>13480</th>\n",
       "      <td>13480</td>\n",
       "      <td>2482.449695</td>\n",
       "    </tr>\n",
       "    <tr>\n",
       "      <th>13481</th>\n",
       "      <td>13481</td>\n",
       "      <td>5120.590226</td>\n",
       "    </tr>\n",
       "    <tr>\n",
       "      <th>13482</th>\n",
       "      <td>13482</td>\n",
       "      <td>2401.514986</td>\n",
       "    </tr>\n",
       "    <tr>\n",
       "      <th>13483</th>\n",
       "      <td>13483</td>\n",
       "      <td>1158.007462</td>\n",
       "    </tr>\n",
       "    <tr>\n",
       "      <th>13484</th>\n",
       "      <td>13484</td>\n",
       "      <td>2241.159537</td>\n",
       "    </tr>\n",
       "  </tbody>\n",
       "</table>\n",
       "<p>13485 rows × 2 columns</p>\n",
       "</div>"
      ],
      "text/plain": [
       "          id         price\n",
       "0          0  15326.790664\n",
       "1          1  15605.262872\n",
       "2          2   1358.519660\n",
       "3          3    535.993147\n",
       "4          4   2989.692148\n",
       "...      ...           ...\n",
       "13480  13480   2482.449695\n",
       "13481  13481   5120.590226\n",
       "13482  13482   2401.514986\n",
       "13483  13483   1158.007462\n",
       "13484  13484   2241.159537\n",
       "\n",
       "[13485 rows x 2 columns]"
      ]
     },
     "execution_count": 16,
     "metadata": {},
     "output_type": "execute_result"
    }
   ],
   "source": [
    "predict_GRAD500 = pd.DataFrame(predictions['GradientBoostRegressor500']).reset_index()\n",
    "predict_GRAD500 = predict_GRAD500.rename(columns={\"index\": \"id\", 0: \"price\"})\n",
    "predict_GRAD500"
   ]
  },
  {
   "cell_type": "markdown",
   "metadata": {},
   "source": [
    "# Pasando a CSV para poder hacer Submit"
   ]
  },
  {
   "cell_type": "code",
   "execution_count": 17,
   "metadata": {},
   "outputs": [],
   "source": [
    "predict_GRAD.to_csv('./Output/predictionGradientBRegr', index=False)"
   ]
  },
  {
   "cell_type": "code",
   "execution_count": 18,
   "metadata": {},
   "outputs": [],
   "source": [
    "predict_RFReg.to_csv('./Output/predictionRandomForRegr', index=False)"
   ]
  },
  {
   "cell_type": "code",
   "execution_count": 19,
   "metadata": {},
   "outputs": [],
   "source": [
    "predict_RFReg500.to_csv('./Output/predictionRandomForRegr500', index=False)"
   ]
  },
  {
   "cell_type": "code",
   "execution_count": 20,
   "metadata": {},
   "outputs": [],
   "source": [
    "predict_GRAD500.to_csv('./Output/predictionGradientBRegr', index=False)"
   ]
  },
  {
   "cell_type": "markdown",
   "metadata": {},
   "source": [
    "### PLT"
   ]
  },
  {
   "cell_type": "code",
   "execution_count": 21,
   "metadata": {},
   "outputs": [
    {
     "data": {
      "image/png": "[encoded data removed]",
      "text/plain": [
       "<Figure size 432x288 with 1 Axes>"
      ]
     },
     "metadata": {
      "needs_background": "light"
     },
     "output_type": "display_data"
    }
   ],
   "source": [
    "plt.scatter(predict_GRAD['price'],predict_RFReg['price'], c='blue')\n",
    "\n",
    "plt.show()\n",
    "# Los predicts de ambas (dos primeros csv con score más bajo)"
   ]
  },
  {
   "cell_type": "code",
   "execution_count": 22,
   "metadata": {},
   "outputs": [
    {
     "data": {
      "text/plain": [
       "<matplotlib.collections.PathCollection at 0x7f100bba1700>"
      ]
     },
     "execution_count": 22,
     "metadata": {},
     "output_type": "execute_result"
    },
    {
     "data": {
      "image/png": "[encoded data removed]",
      "text/plain": [
       "<Figure size 432x288 with 1 Axes>"
      ]
     },
     "metadata": {
      "needs_background": "light"
     },
     "output_type": "display_data"
    }
   ],
   "source": [
    "plt.scatter(predict_RFReg500['price'],predict_RFReg['price'], c='red')\n",
    "#se puede observar la diferencia con el modelo de GradientBoostRegressor"
   ]
  },
  {
   "cell_type": "code",
   "execution_count": null,
   "metadata": {},
   "outputs": [],
   "source": []
  }
 ],
 "metadata": {
  "kernelspec": {
   "display_name": "Python 3",
   "language": "python",
   "name": "python3"
  },
  "language_info": {
   "codemirror_mode": {
    "name": "ipython",
    "version": 3
   },
   "file_extension": ".py",
   "mimetype": "text/x-python",
   "name": "python",
   "nbconvert_exporter": "python",
   "pygments_lexer": "ipython3",
   "version": "3.8.2"
  }
 },
 "nbformat": 4,
 "nbformat_minor": 4
}
